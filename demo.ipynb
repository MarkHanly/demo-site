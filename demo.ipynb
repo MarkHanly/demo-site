{
  "cells": [
    {
      "cell_type": "raw",
      "metadata": {},
      "source": [
        "---\n",
        "title: \"Coding exercises\"\n",
        "---"
      ],
      "id": "840f48a3"
    },
    {
      "cell_type": "markdown",
      "metadata": {},
      "source": [
        "::: column-page-inset\n",
        "\n",
        "\n",
        "```{html}\n",
        "<iframe width=\"100%\" height=\"700\" src=\"https://cbdrh.shinyapps.io/learnrpy/\" title=\"Quarto Documentation\"></iframe>\n",
        "```\n",
        "\n",
        "\n",
        ":::"
      ],
      "id": "fedea066"
    }
  ],
  "metadata": {
    "kernelspec": {
      "display_name": "Python 3",
      "language": "python",
      "name": "python3"
    }
  },
  "nbformat": 4,
  "nbformat_minor": 5
}